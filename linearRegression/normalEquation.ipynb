{
 "cells": [
  {
   "cell_type": "markdown",
   "metadata": {},
   "source": [
    "# Normal Equation\n",
    "\n",
    "Sometimes you could resolve the optimization problem analytically. Now we are going to study a little about how to do it.\n",
    "\n",
    "**Gradient Descent** gives one way of minimizing $J(\\theta)$. Let's discuss other way of doing so, this time performing the minimization explicitly and without resorting to an iterative algorithm. In the **Normal Equation** method, we will minimize $J$ by explicitly taking its derivatives with respect to the $\\theta_{j}$, and setting them to zero. This allows us to find the optimum $\\theta$ without iteration. The normal equation formula is given below:\n",
    "\n",
    "$$\\theta = (X^{T}X)^{-1}X^Ty$$\n",
    "\n",
    "Now suppose that we have the following data:\n",
    "\n",
    "|   x<sub>0</sub> | Size (feet) x<sub>1</sub> | Number of  bedrooms x<sub>2</sub> | Number of  Floors x<sub>3</sub> | Age of home (years) x<sub>4</sub> | Price ($1000)  y |\n",
    "|------|-----------------|------------------------|----------------------|------------------------|------------------|\n",
    "| 1    | 2104            | 5                      | 1                    | 45                     | 460              |\n",
    "| 1    | 1416            | 3                      | 2                    | 40                     | 232              |\n",
    "| 1    | 1534            | 3                      | 2                    | 30                     | 315              |\n",
    "| 1    | 852             | 2                      | 1                    | 36                     | 178            |\n",
    "\n",
    "Our **Normal Equation** would be something like the following:\n",
    "\n",
    "$$\\begin{bmatrix}\n",
    "1 & 2104 & 5 & 1 & 45 \\\\\n",
    "1 & 1416 & 3 & 2 & 40 \\\\\n",
    "1 & 1534 & 5 & 2 & 30 \\\\\n",
    "1 & 852 & 5 & 1 & 36 \\\\\n",
    "\\end{bmatrix}y=\\begin{bmatrix}\n",
    "460 \\\\ 232 \\\\ 315 \\\\ 178\n",
    "\\end{bmatrix}$$\n",
    "\n",
    "There is **no need** to do feature scaling with the normal equation.\n",
    "\n",
    "The following is a comparison of gradient descent and the normal equation:\n",
    "\n",
    "| **Gradient Descent**           | **Normal Equation**                             |\n",
    "|--------------------------------|-------------------------------------------------|\n",
    "| Need to choose $\\alpha$        | No Need to choose $\\alpha$                      |\n",
    "| Needs many iterations          | No need to iterate                              |\n",
    "| $O(kn^2)$                      | $O(n^3)$, need to calculate inverse of $X^{T}X$ |\n",
    "| Works well when **n** is large | Slow if **n** is very large                     |\n",
    "\n",
    "Normally the recommendation is if n is close to 10000 would be a good idea to move to **Gradient Descent** method.\n",
    "\n",
    "If you wanna know how you could obtain the **Normal Equation**. Please feel free to read a little more on [Derivation of the Normal Equation for Linear Regression](https://eli.thegreenplace.net/2014/derivation-of-the-normal-equation-for-linear-regression)\n",
    "\n",
    "\n",
    "## Noninvertibility\n",
    "\n",
    "If $X^TX$ is **noninvertible**, the common causes might be having:\n",
    "\n",
    "* Redundant features, where two features are very closely related (i.e the are linearly dependent)\n",
    "* Too many features (e.g. $m<=n$). In this case, delete some features or use **Regularization** (To be explained in other lesson)\n",
    "\n",
    "Solutions to the above problems includie deleting a feature that is linearly dependent with another or deleting one or more features when there are too many features.\n",
    "\n"
   ]
  }
 ],
 "metadata": {
  "kernelspec": {
   "display_name": "Python 3",
   "language": "python",
   "name": "python3"
  },
  "language_info": {
   "codemirror_mode": {
    "name": "ipython",
    "version": 3
   },
   "file_extension": ".py",
   "mimetype": "text/x-python",
   "name": "python",
   "nbconvert_exporter": "python",
   "pygments_lexer": "ipython3",
   "version": "3.5.2"
  }
 },
 "nbformat": 4,
 "nbformat_minor": 2
}
