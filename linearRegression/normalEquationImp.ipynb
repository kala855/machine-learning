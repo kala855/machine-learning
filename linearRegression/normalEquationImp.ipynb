{
 "cells": [
  {
   "cell_type": "markdown",
   "metadata": {},
   "source": [
    "# Normal Equation Implementation\n",
    "\n",
    "This implementation is going to be the first work to do during this course, please feel free to implement the **Normal Equation** using the following data set [Data Houses](data/dataHouses2.csv). Remember to:\n",
    "\n",
    "* Make plots of the data\n",
    "* Implement the Normal Equation\n",
    "* Make a plot of Prices vs Predicted Prices "
   ]
  }
 ],
 "metadata": {
  "kernelspec": {
   "display_name": "Python 3",
   "language": "python",
   "name": "python3"
  },
  "language_info": {
   "codemirror_mode": {
    "name": "ipython",
    "version": 3
   },
   "file_extension": ".py",
   "mimetype": "text/x-python",
   "name": "python",
   "nbconvert_exporter": "python",
   "pygments_lexer": "ipython3",
   "version": "3.5.2"
  }
 },
 "nbformat": 4,
 "nbformat_minor": 2
}
