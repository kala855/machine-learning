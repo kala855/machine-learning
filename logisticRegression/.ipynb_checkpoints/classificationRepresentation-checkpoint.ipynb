{
 "cells": [
  {
   "cell_type": "markdown",
   "metadata": {},
   "source": [
    "# Classification\n",
    "\n",
    "One method used to make classification is through Linear Regression Models and map all the predictions greater than 0.5 as a 1, and all less than 0.5 to 0. However this method doesn't work well because classification is not a linear function.\n",
    "\n",
    "The Classification problem is just like the regression problem, except that the values we need to predict take on only a small number of discrete values. For now, we are going to talk only about **binary classification problem** in which $y$ only take two possible values, $0$ and $1$. For example, think a little about a **Spam Classifier** in this case, yo have two possible classes, one would be to detect that the e-mail is Spam and the other one to say that the e-mail is not Spam. You have the e-mails to make the training in our $x^{i}$ and the classification for this trainig set arranged in $y^{i}$.\n",
    "\n",
    "# Hypothesis Representation\n",
    "\n",
    "We could approach a solution to our classification problem taking our old linear regression model, and ignoring the fact that $y$ is discrete. However, it is possible to obtain bad results trying to solve our problem in this way. What we are going to do is to use the **Logistic Function** to have always our output between $0$ and $1$. We can do this applying the **Logistic Function** to $\\theta^{T}x$. So in this case our new hypothesis became the following:\n",
    "\n",
    "$$z = \\theta^{T}x\\\\\n",
    "h_{\\theta}(x) = g(z)\\\\\n",
    "g(z) = \\frac{1}{1+\\exp{-z}}$$"
   ]
  },
  {
   "cell_type": "code",
   "execution_count": 5,
   "metadata": {},
   "outputs": [
    {
     "data": {
      "text/plain": [
       "[<matplotlib.lines.Line2D at 0x10f67c390>]"
      ]
     },
     "execution_count": 5,
     "metadata": {},
     "output_type": "execute_result"
    },
    {
     "data": {
      "image/png": "[encoded data removed]",
      "text/plain": [
       "<matplotlib.figure.Figure at 0x10e93f5c0>"
      ]
     },
     "metadata": {},
     "output_type": "display_data"
    }
   ],
   "source": [
    "import numpy as np\n",
    "import matplotlib.pyplot as plt\n",
    "%matplotlib inline\n",
    "np.set_printoptions(suppress=True) # This command is used to avoid the scientific output\n",
    "\n",
    "## Generate some numbers to plot the sigmoid function\n",
    "x = np.linspace(-10,10,100)\n",
    "y = 1 / (1 + np.exp(-x))\n",
    "\n",
    "plt.figure()\n",
    "plt.title('Sigmoid Function')\n",
    "plt.plot(x,y)\n"
   ]
  },
  {
   "cell_type": "markdown",
   "metadata": {},
   "source": [
    "The **Logistic Function** takes any real number and transforms it in a value between $0$ and $1$, very useful to make classification tasks. $h_{\\theta}(x)$ give us the **probability** that our output is $1$. For example if $h_{\\theta}(x) = 0.7$ gives us the probability of 70% that our output is $1$."
   ]
  }
 ],
 "metadata": {
  "kernelspec": {
   "display_name": "Python 3",
   "language": "python",
   "name": "python3"
  },
  "language_info": {
   "codemirror_mode": {
    "name": "ipython",
    "version": 3
   },
   "file_extension": ".py",
   "mimetype": "text/x-python",
   "name": "python",
   "nbconvert_exporter": "python",
   "pygments_lexer": "ipython3",
   "version": "3.6.4"
  }
 },
 "nbformat": 4,
 "nbformat_minor": 2
}
