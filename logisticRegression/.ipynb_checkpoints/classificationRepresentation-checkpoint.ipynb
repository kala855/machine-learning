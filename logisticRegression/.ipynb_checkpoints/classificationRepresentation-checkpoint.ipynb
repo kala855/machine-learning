{
 "cells": [
  {
   "cell_type": "markdown",
   "metadata": {},
   "source": [
    "# Classification\n",
    "\n",
    "One method used to make classification is through Linear Regression Models and map all the predictions greater than 0.5 as a 1, and all less than 0.5 to 0. However this method doesn't work well because classification is not a linear function.\n",
    "\n",
    "The Classification problem is just like the regression problem, except that the values we need to predict take on only a small number of discrete values. For now, we are going to talk only about **binary classification problem** in which $y$ only take two possible values, $0$ and $1$. For example, think a little about a **Spam Classifier** in this case, yo have two possible classes, one would be to detect that the e-mail is Spam and the other one to say that the e-mail is not Spam. You have the e-mails to make the training in our $x^{i}$ and the classification for this trainig set arranged in $y^{i}$.\n",
    "\n",
    "# Hypothesis Representation\n",
    "\n",
    "We could approach a solution to our classification problem taking our old linear regression model, and ignoring the fact that $y$ is discrete. However, it is possible to obtain bad results trying to solve our problem in this way. What we are going to do is to use the **Logistic Function** to have always our output between $0$ and $1$. We can do this applying the **Logistic Function** to $\\theta^{T}x$. So in this case our new hypothesis became the following:\n",
    "\n",
    "$$z = \\theta^{T}x\\\\\n",
    "h_{\\theta}(x) = g(z)\\\\\n",
    "g(z) = \\frac{1}{1+e^{-z}}$$"
   ]
  },
  {
   "cell_type": "code",
   "execution_count": 2,
   "metadata": {},
   "outputs": [
    {
     "data": {
      "text/plain": [
       "[<matplotlib.lines.Line2D at 0x10f4c39e8>]"
      ]
     },
     "execution_count": 2,
     "metadata": {},
     "output_type": "execute_result"
    },
    {
     "data": {
      "image/png": "[encoded data removed]",
      "text/plain": [
       "<matplotlib.figure.Figure at 0x108069d68>"
      ]
     },
     "metadata": {},
     "output_type": "display_data"
    }
   ],
   "source": [
    "import numpy as np\n",
    "import matplotlib.pyplot as plt\n",
    "%matplotlib inline\n",
    "np.set_printoptions(suppress=True) # This command is used to avoid the scientific output\n",
    "\n",
    "## Generate some numbers to plot the sigmoid function\n",
    "x = np.linspace(-10,10,100)\n",
    "y = 1 / (1 + np.exp(-x))\n",
    "\n",
    "plt.figure()\n",
    "plt.title('Sigmoid Function')\n",
    "plt.plot(x,y)\n"
   ]
  },
  {
   "cell_type": "markdown",
   "metadata": {},
   "source": [
    "The **Logistic Function** takes any real number and transforms it in a value between $0$ and $1$, very useful to make classification tasks. $h_{\\theta}(x)$ give us the **probability** that our output is $1$. For example if $h_{\\theta}(x) = 0.7$ gives us the probability of 70% that our output is $1$.\n",
    "\n",
    "# Decision Boundary\n",
    "\n",
    "Our **Logistic Regression** hypothesis representation is given by:\n",
    "\n",
    "$$z = \\theta^{T}x\\\\\n",
    "h_{\\theta}(x) = g(z)\\\\\n",
    "g(z) = \\frac{1}{1+e^{-z}}$$\n",
    "\n",
    "In this case we could translate this representation to the following, in order to have our $0$ and $1$ for classification purposes:\n",
    "\n",
    "$$h_{\\theta}(x) >= 0.5 \\rightarrow y = 1\\\\\n",
    "h_{\\theta(x)} < 0.5 \\rightarrow y = 0$$\n",
    "\n",
    "Our **Logistic Function** gives a value greater or equal than 0.5 if the input is greater or equal than 0, let's see:\n",
    "\n",
    "$$g(z) >= 0.5 \\\\ z >= 0$$\n",
    "\n",
    "Remember this:\n",
    "\n",
    "$$z=0, e^{0}=1 \\Rightarrow g(z)=\\frac{1}{2}\\\\\n",
    "z \\rightarrow \\infty, e^{-\\infty} \\rightarrow 0 \\Rightarrow g(z)=1\\\\\n",
    "z \\rightarrow -\\infty, e^{\\infty} \\rightarrow \\infty \\Rightarrow g(z)=0$$\n",
    "\n",
    "So if the input to function $g$ is $\\theta^{T}x$, then that means:\n",
    "\n",
    "$$h_{\\theta}(x)=g(\\theta^{T}x)>=0.5\\\\\n",
    "\\theta^{T}x>=0$$\n",
    "\n",
    "Now, we can say:\n",
    "\n",
    "$$\\theta^{T}x>=0\\Rightarrow y=1\\\\\n",
    "\\theta^{T}x<0\\Rightarrow y=0$$\n",
    "\n",
    "The **Decision Boundary** is the line that separates the area where $y=0$ and where $y=1$. It is created by our hypothesis function.\n",
    "\n",
    "## Example\n",
    "\n",
    "If our $\\theta$ vector is defined by:\n",
    "\n",
    "$$\\theta = \\begin{bmatrix}-3\\\\1\\\\1\\end{bmatrix}\\\\h_{\\theta}(x)=g(\\theta^{T}x)\\\\\n",
    "h_{\\theta}(x)=g(\\theta_{0}+\\theta_{1}x_{1}+\\theta_{2}x_{2})\\\\\n",
    "h_{\\theta}(x)=g(-3+x_{1}+x_{2})$$\n",
    "\n",
    "In the above example we will predict $y = 1$ if $-3+x_{1}+x_{2}>=0$. In other words:\n",
    "$$-3+x_{1}+x_{2}>=0\\\\\n",
    "x_{1}+x_{2}>=3 \\Rightarrow y = 1$$\n",
    "\n",
    "And we will predict $y = 0$ if:\n",
    "$$x_{1}+x_{2}<3 \\Rightarrow y = 0$$\n",
    "\n",
    "And our **Decision Boundary** is given by the following equation:\n",
    "$$x_{1}+x_{2}=3$$"
   ]
  },
  {
   "cell_type": "code",
   "execution_count": 10,
   "metadata": {},
   "outputs": [
    {
     "data": {
      "image/png": "[encoded data removed]",
      "text/plain": [
       "<matplotlib.figure.Figure at 0x10fffa550>"
      ]
     },
     "metadata": {},
     "output_type": "display_data"
    }
   ],
   "source": [
    "x = np.linspace(-3,10,100)\n",
    "y = 3 - x\n",
    "plt.figure()\n",
    "plt.title('Decision Boundary for our example')\n",
    "plt.plot(x,y)\n",
    "plt.grid()"
   ]
  }
 ],
 "metadata": {
  "kernelspec": {
   "display_name": "Python 3",
   "language": "python",
   "name": "python3"
  },
  "language_info": {
   "codemirror_mode": {
    "name": "ipython",
    "version": 3
   },
   "file_extension": ".py",
   "mimetype": "text/x-python",
   "name": "python",
   "nbconvert_exporter": "python",
   "pygments_lexer": "ipython3",
   "version": "3.6.4"
  }
 },
 "nbformat": 4,
 "nbformat_minor": 2
}
